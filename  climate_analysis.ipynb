{
 "cells": [
  {
   "cell_type": "code",
   "execution_count": 1,
   "metadata": {},
   "outputs": [],
   "source": [
    "#import dependencies\n",
    "import pandas as pd\n",
    "import numpy as np\n",
    "\n",
    "# Import SQL Alchemy\n",
    "\n",
    "# Import and establish Base for which classes will be constructed \n",
    "# from sqlalchemy.ext.declarative import declarative_base\n",
    "# Base = declarative_base()\n",
    "\n",
    "import sqlalchemy\n",
    "from sqlalchemy.ext.automap import automap_base\n",
    "from sqlalchemy import func\n",
    "from sqlalchemy import create_engine, inspect\n",
    "# Import modules to declare columns and column data types\n",
    "from sqlalchemy import Column, Integer, String, Float\n",
    "\n",
    "import matplotlib\n",
    "from matplotlib import style\n",
    "style.use('fivethirtyeight')\n",
    "import matplotlib.pyplot as plt\n"
   ]
  },
  {
   "cell_type": "code",
   "execution_count": 2,
   "metadata": {},
   "outputs": [],
   "source": [
    "# Create an engine for the chinook.sqlite database\n",
    "### BEGIN SOLUTION\n",
    "engine = create_engine(\"sqlite:///hawaii.sqlite\", echo=False)"
   ]
  },
  {
   "cell_type": "code",
   "execution_count": 3,
   "metadata": {},
   "outputs": [],
   "source": [
    "# To push the objects made and query the server we use a Session object\n",
    "from sqlalchemy.orm import Session\n",
    "session = Session(bind=engine)\n"
   ]
  },
  {
   "cell_type": "code",
   "execution_count": 4,
   "metadata": {},
   "outputs": [
    {
     "data": {
      "text/plain": [
       "['measurement', 'station']"
      ]
     },
     "execution_count": 4,
     "metadata": {},
     "output_type": "execute_result"
    }
   ],
   "source": [
    "# Reflect Database into ORM classes\n",
    "Base = automap_base()\n",
    "Base.prepare(engine, reflect=True)\n",
    "Base.classes.keys()"
   ]
  },
  {
   "cell_type": "code",
   "execution_count": 5,
   "metadata": {},
   "outputs": [],
   "source": [
    "# Assign the station and measurement class to a variables MeasurementTbl and StationTbl\n",
    "msrTbl = Base.classes.measurement\n",
    "staTbl = Base.classes.station"
   ]
  },
  {
   "cell_type": "markdown",
   "metadata": {},
   "source": [
    "### Analysis\n",
    "\n",
    "Precipitation Analysis\n",
    "\n",
    "\n",
    "Design a query to retrieve the last 12 months of precipitation data.\n",
    "\n",
    "Select only the date and prcp values.\n",
    "\n",
    "Load the query results into a Pandas DataFrame and set the index to the date column.\n",
    "\n",
    "Plot the results using the DataFrame plot method."
   ]
  },
  {
   "cell_type": "code",
   "execution_count": 6,
   "metadata": {},
   "outputs": [],
   "source": [
    "# Create a database session object\n",
    "session = Session(engine)"
   ]
  },
  {
   "cell_type": "code",
   "execution_count": 7,
   "metadata": {},
   "outputs": [
    {
     "data": {
      "text/plain": [
       "{'_sa_instance_state': <sqlalchemy.orm.state.InstanceState at 0x11466afd0>,\n",
       " 'date': '2010-01-01',\n",
       " 'id': 1,\n",
       " 'prcp': 0.08,\n",
       " 'station': 'USC00519397',\n",
       " 'tobs': 65}"
      ]
     },
     "execution_count": 7,
     "metadata": {},
     "output_type": "execute_result"
    }
   ],
   "source": [
    "# Display the row's columns and data in dictionary format for Measurement Table\n",
    "first_row = session.query(msrTbl).first()\n",
    "first_row.__dict__"
   ]
  },
  {
   "cell_type": "code",
   "execution_count": 8,
   "metadata": {},
   "outputs": [],
   "source": [
    "#select a year worth of precipitation\n",
    "qry = session.query(msrTbl.date, func.sum(msrTbl.prcp)).\\\n",
    "    filter(msrTbl.date.between('2010-01-01', '2010-12-31')).\\\n",
    "    group_by(msrTbl.date).all()\n"
   ]
  },
  {
   "cell_type": "code",
   "execution_count": 9,
   "metadata": {},
   "outputs": [],
   "source": [
    "# engine.execute('SELECT date, sum(prcp) FROM measurement).fetchall()"
   ]
  },
  {
   "cell_type": "code",
   "execution_count": 10,
   "metadata": {},
   "outputs": [],
   "source": [
    "# sel = [Dow.stock, \n",
    "#        func.avg(Dow.open_price), \n",
    "#        func.avg(Dow.high_price), \n",
    "#        func.avg(Dow.low_price), \n",
    "#        func.avg(Dow.close_price)]\n",
    "# yr_averages = session.query(*sel).\\\n",
    "#     filter(func.strftime(\"%m\", Dow.date) == \"05\").\\\n",
    "#     group_by(Dow.stock).\\\n",
    "#     order_by(Dow.stock).all()"
   ]
  },
  {
   "cell_type": "code",
   "execution_count": 11,
   "metadata": {},
   "outputs": [
    {
     "data": {
      "text/plain": [
       "[('2010-01-01', 1.06),\n",
       " ('2010-01-02', 0.02),\n",
       " ('2010-01-03', 0.0),\n",
       " ('2010-01-04', 0.01),\n",
       " ('2010-01-05', 0.03),\n",
       " ('2010-01-06', 0.5800000000000001),\n",
       " ('2010-01-07', 1.65),\n",
       " ('2010-01-08', 0.06),\n",
       " ('2010-01-09', 0.02),\n",
       " ('2010-01-10', 0.02),\n",
       " ('2010-01-11', 0.8800000000000001),\n",
       " ('2010-01-12', 0.02),\n",
       " ('2010-01-13', 0.02),\n",
       " ('2010-01-14', 0.0),\n",
       " ('2010-01-15', 0.0),\n",
       " ('2010-01-16', 0.0),\n",
       " ('2010-01-17', 0.0),\n",
       " ('2010-01-18', 0.0),\n",
       " ('2010-01-19', 0.0),\n",
       " ('2010-01-20', 0.01),\n",
       " ('2010-01-21', 0.65),\n",
       " ('2010-01-22', 0.0),\n",
       " ('2010-01-23', 0.0),\n",
       " ('2010-01-24', 0.02),\n",
       " ('2010-01-25', 0.0),\n",
       " ('2010-01-26', 0.25),\n",
       " ('2010-01-27', 1.6),\n",
       " ('2010-01-28', 0.73),\n",
       " ('2010-01-29', 2.19),\n",
       " ('2010-01-30', 7.3500000000000005),\n",
       " ('2010-01-31', 2.16),\n",
       " ('2010-02-01', 0.05),\n",
       " ('2010-02-02', 0.05),\n",
       " ('2010-02-03', 3.21),\n",
       " ('2010-02-04', 0.02),\n",
       " ('2010-02-05', 0.16),\n",
       " ('2010-02-06', 0.12),\n",
       " ('2010-02-07', 0.01),\n",
       " ('2010-02-08', 0.0),\n",
       " ('2010-02-09', 0.0),\n",
       " ('2010-02-10', 0.0),\n",
       " ('2010-02-11', 0.0),\n",
       " ('2010-02-12', 0.8200000000000001),\n",
       " ('2010-02-13', 0.78),\n",
       " ('2010-02-14', 0.03),\n",
       " ('2010-02-15', 0.0),\n",
       " ('2010-02-16', 0.0),\n",
       " ('2010-02-17', 0.06),\n",
       " ('2010-02-18', 0.0),\n",
       " ('2010-02-19', 0.69),\n",
       " ('2010-02-20', 1.61),\n",
       " ('2010-02-21', 0.22000000000000003),\n",
       " ('2010-02-22', 1.23),\n",
       " ('2010-02-23', 0.03),\n",
       " ('2010-02-24', 0.01),\n",
       " ('2010-02-25', 0.02),\n",
       " ('2010-02-26', 0.02),\n",
       " ('2010-02-27', 0.03),\n",
       " ('2010-02-28', 0.51),\n",
       " ('2010-03-01', 0.2),\n",
       " ('2010-03-02', 0.0),\n",
       " ('2010-03-03', 0.13),\n",
       " ('2010-03-04', 2.9299999999999997),\n",
       " ('2010-03-05', 2.3200000000000003),\n",
       " ('2010-03-06', 2.69),\n",
       " ('2010-03-07', 0.6),\n",
       " ('2010-03-08', 2.74),\n",
       " ('2010-03-09', 0.71),\n",
       " ('2010-03-10', 0.79),\n",
       " ('2010-03-11', 1.1400000000000001),\n",
       " ('2010-03-12', 0.24),\n",
       " ('2010-03-13', 0.13),\n",
       " ('2010-03-14', 0.12000000000000001),\n",
       " ('2010-03-15', 1.58),\n",
       " ('2010-03-16', 3.7300000000000004),\n",
       " ('2010-03-17', 1.96),\n",
       " ('2010-03-18', 2.53),\n",
       " ('2010-03-19', 0.38),\n",
       " ('2010-03-20', 0.19),\n",
       " ('2010-03-21', 1.05),\n",
       " ('2010-03-22', 0.0),\n",
       " ('2010-03-23', 0.01),\n",
       " ('2010-03-24', 0.15000000000000002),\n",
       " ('2010-03-25', 0.6699999999999999),\n",
       " ('2010-03-26', 1.1),\n",
       " ('2010-03-27', 0.03),\n",
       " ('2010-03-28', 0.060000000000000005),\n",
       " ('2010-03-29', 0.17),\n",
       " ('2010-03-30', 0.63),\n",
       " ('2010-03-31', 0.14),\n",
       " ('2010-04-01', 0.13),\n",
       " ('2010-04-02', 0.38),\n",
       " ('2010-04-03', 2.02),\n",
       " ('2010-04-04', 4.0600000000000005),\n",
       " ('2010-04-05', 3.91),\n",
       " ('2010-04-06', 2.5500000000000003),\n",
       " ('2010-04-07', 8.31),\n",
       " ('2010-04-08', 2.11),\n",
       " ('2010-04-09', 1.61),\n",
       " ('2010-04-10', 0.6200000000000001),\n",
       " ('2010-04-11', 1.2),\n",
       " ('2010-04-12', 0.05),\n",
       " ('2010-04-13', 1.1600000000000001),\n",
       " ('2010-04-14', 0.26),\n",
       " ('2010-04-15', 0.0),\n",
       " ('2010-04-16', 0.14),\n",
       " ('2010-04-17', 0.11),\n",
       " ('2010-04-18', 0.23),\n",
       " ('2010-04-19', 0.02),\n",
       " ('2010-04-20', 1.1),\n",
       " ('2010-04-21', 0.47),\n",
       " ('2010-04-22', 0.6700000000000002),\n",
       " ('2010-04-23', 0.6300000000000001),\n",
       " ('2010-04-24', 0.36),\n",
       " ('2010-04-25', 0.09),\n",
       " ('2010-04-26', 0.0),\n",
       " ('2010-04-27', 0.03),\n",
       " ('2010-04-28', 0.72),\n",
       " ('2010-04-29', 1.49),\n",
       " ('2010-04-30', 1.17),\n",
       " ('2010-05-01', 1.25),\n",
       " ('2010-05-02', 0.83),\n",
       " ('2010-05-03', 5.3500000000000005),\n",
       " ('2010-05-04', 0.59),\n",
       " ('2010-05-05', 0.06999999999999999),\n",
       " ('2010-05-06', 0.1),\n",
       " ('2010-05-07', 0.63),\n",
       " ('2010-05-08', 0.15000000000000002),\n",
       " ('2010-05-09', 0.25),\n",
       " ('2010-05-10', 0.65),\n",
       " ('2010-05-11', 0.14),\n",
       " ('2010-05-12', 0.19999999999999998),\n",
       " ('2010-05-13', 0.45),\n",
       " ('2010-05-14', 0.02),\n",
       " ('2010-05-15', 0.6000000000000001),\n",
       " ('2010-05-16', 0.95),\n",
       " ('2010-05-17', 0.16999999999999998),\n",
       " ('2010-05-18', 0.0),\n",
       " ('2010-05-19', 0.0),\n",
       " ('2010-05-20', 1.6500000000000001),\n",
       " ('2010-05-21', 0.9400000000000001),\n",
       " ('2010-05-22', 0.29000000000000004),\n",
       " ('2010-05-23', 1.1300000000000001),\n",
       " ('2010-05-24', 0.62),\n",
       " ('2010-05-25', 1.42),\n",
       " ('2010-05-26', 0.68),\n",
       " ('2010-05-27', 0.05),\n",
       " ('2010-05-28', 0.0),\n",
       " ('2010-05-29', 0.81),\n",
       " ('2010-05-30', 0.05),\n",
       " ('2010-05-31', 0.06),\n",
       " ('2010-06-01', 0.15000000000000002),\n",
       " ('2010-06-02', 0.07),\n",
       " ('2010-06-03', 0.24000000000000002),\n",
       " ('2010-06-04', 0.01),\n",
       " ('2010-06-05', 0.09),\n",
       " ('2010-06-06', 0.13),\n",
       " ('2010-06-07', 0.72),\n",
       " ('2010-06-08', 0.28),\n",
       " ('2010-06-09', 0.0),\n",
       " ('2010-06-10', 0.02),\n",
       " ('2010-06-11', 0.0),\n",
       " ('2010-06-12', 0.03),\n",
       " ('2010-06-13', 0.06),\n",
       " ('2010-06-14', 0.18),\n",
       " ('2010-06-15', 0.14),\n",
       " ('2010-06-16', 0.01),\n",
       " ('2010-06-17', 0.09),\n",
       " ('2010-06-18', 0.81),\n",
       " ('2010-06-19', 0.5700000000000001),\n",
       " ('2010-06-20', 0.05),\n",
       " ('2010-06-21', 0.01),\n",
       " ('2010-06-22', 0.02),\n",
       " ('2010-06-23', 0.17),\n",
       " ('2010-06-24', 0.6900000000000001),\n",
       " ('2010-06-25', 1.55),\n",
       " ('2010-06-26', 1.63),\n",
       " ('2010-06-27', 0.54),\n",
       " ('2010-06-28', 0.44999999999999996),\n",
       " ('2010-06-29', 0.25),\n",
       " ('2010-06-30', 0.84),\n",
       " ('2010-07-01', 0.7),\n",
       " ('2010-07-02', 1.8),\n",
       " ('2010-07-03', 3.43),\n",
       " ('2010-07-04', 1.16),\n",
       " ('2010-07-05', 0.36000000000000004),\n",
       " ('2010-07-06', 2.02),\n",
       " ('2010-07-07', 1.9100000000000001),\n",
       " ('2010-07-08', 1.27),\n",
       " ('2010-07-09', 1.17),\n",
       " ('2010-07-10', 1.73),\n",
       " ('2010-07-11', 0.33999999999999997),\n",
       " ('2010-07-12', 0.25),\n",
       " ('2010-07-13', 0.63),\n",
       " ('2010-07-14', 1.21),\n",
       " ('2010-07-15', 0.5900000000000001),\n",
       " ('2010-07-16', 0.31),\n",
       " ('2010-07-17', 0.66),\n",
       " ('2010-07-18', 2.5700000000000003),\n",
       " ('2010-07-19', 0.68),\n",
       " ('2010-07-20', 1.8),\n",
       " ('2010-07-21', 0.11),\n",
       " ('2010-07-22', 0.52),\n",
       " ('2010-07-23', 1.23),\n",
       " ('2010-07-24', 0.38999999999999996),\n",
       " ('2010-07-25', 0.0),\n",
       " ('2010-07-26', 0.0),\n",
       " ('2010-07-27', 0.57),\n",
       " ('2010-07-28', 0.68),\n",
       " ('2010-07-29', 0.42),\n",
       " ('2010-07-30', 0.36),\n",
       " ('2010-07-31', 0.23000000000000004),\n",
       " ('2010-08-01', 1.27),\n",
       " ('2010-08-02', 2.1799999999999997),\n",
       " ('2010-08-03', 1.02),\n",
       " ('2010-08-04', 2.96),\n",
       " ('2010-08-05', 2.12),\n",
       " ('2010-08-06', 0.69),\n",
       " ('2010-08-07', 0.56),\n",
       " ('2010-08-08', 1.12),\n",
       " ('2010-08-09', 0.29000000000000004),\n",
       " ('2010-08-10', 0.06),\n",
       " ('2010-08-11', 0.42000000000000004),\n",
       " ('2010-08-12', 0.13),\n",
       " ('2010-08-13', 0.46),\n",
       " ('2010-08-14', 0.0),\n",
       " ('2010-08-15', 0.03),\n",
       " ('2010-08-16', 0.97),\n",
       " ('2010-08-17', 1.5),\n",
       " ('2010-08-18', 0.3),\n",
       " ('2010-08-19', 0.79),\n",
       " ('2010-08-20', 0.3),\n",
       " ('2010-08-21', 0.06999999999999999),\n",
       " ('2010-08-22', 0.05),\n",
       " ('2010-08-23', 0.06999999999999999),\n",
       " ('2010-08-24', 0.49),\n",
       " ('2010-08-25', 1.06),\n",
       " ('2010-08-26', 1.04),\n",
       " ('2010-08-27', 1.68),\n",
       " ('2010-08-28', 0.45999999999999996),\n",
       " ('2010-08-29', 1.82),\n",
       " ('2010-08-30', 0.46),\n",
       " ('2010-08-31', 0.51),\n",
       " ('2010-09-01', 0.26),\n",
       " ('2010-09-02', 1.0),\n",
       " ('2010-09-03', 1.5699999999999998),\n",
       " ('2010-09-04', 0.47),\n",
       " ('2010-09-05', 0.45),\n",
       " ('2010-09-06', 0.55),\n",
       " ('2010-09-07', 2.15),\n",
       " ('2010-09-08', 0.56),\n",
       " ('2010-09-09', 0.09),\n",
       " ('2010-09-10', 0.42000000000000004),\n",
       " ('2010-09-11', 0.54),\n",
       " ('2010-09-12', 0.01),\n",
       " ('2010-09-13', 0.02),\n",
       " ('2010-09-14', 0.38),\n",
       " ('2010-09-15', 0.07),\n",
       " ('2010-09-16', 0.27),\n",
       " ('2010-09-17', 0.03),\n",
       " ('2010-09-18', 0.3),\n",
       " ('2010-09-19', 0.98),\n",
       " ('2010-09-20', 0.45999999999999996),\n",
       " ('2010-09-21', 0.37),\n",
       " ('2010-09-22', 2.21),\n",
       " ('2010-09-23', 3.2399999999999998),\n",
       " ('2010-09-24', 0.06),\n",
       " ('2010-09-25', 0.62),\n",
       " ('2010-09-26', 0.0),\n",
       " ('2010-09-27', 0.02),\n",
       " ('2010-09-28', 0.01),\n",
       " ('2010-09-29', 0.0),\n",
       " ('2010-09-30', 2.48),\n",
       " ('2010-10-01', 5.82),\n",
       " ('2010-10-02', 2.77),\n",
       " ('2010-10-03', 0.24),\n",
       " ('2010-10-04', 1.1),\n",
       " ('2010-10-05', 0.54),\n",
       " ('2010-10-06', 0.17),\n",
       " ('2010-10-07', 0.03),\n",
       " ('2010-10-08', 0.01),\n",
       " ('2010-10-09', 0.0),\n",
       " ('2010-10-10', 0.12),\n",
       " ('2010-10-11', 0.52),\n",
       " ('2010-10-12', 0.51),\n",
       " ('2010-10-13', 0.14),\n",
       " ('2010-10-14', 0.04),\n",
       " ('2010-10-15', 0.01),\n",
       " ('2010-10-16', 0.08),\n",
       " ('2010-10-17', 0.43),\n",
       " ('2010-10-18', 0.12000000000000001),\n",
       " ('2010-10-19', 4.29),\n",
       " ('2010-10-20', 0.0),\n",
       " ('2010-10-21', 3.16),\n",
       " ('2010-10-22', 1.3699999999999999),\n",
       " ('2010-10-23', 0.02),\n",
       " ('2010-10-24', 0.0),\n",
       " ('2010-10-25', 0.0),\n",
       " ('2010-10-26', 2.4800000000000004),\n",
       " ('2010-10-27', 1.87),\n",
       " ('2010-10-28', 1.56),\n",
       " ('2010-10-29', 0.81),\n",
       " ('2010-10-30', 2.79),\n",
       " ('2010-10-31', 0.42000000000000004),\n",
       " ('2010-11-01', 3.05),\n",
       " ('2010-11-02', 0.6699999999999999),\n",
       " ('2010-11-03', 1.99),\n",
       " ('2010-11-04', 7.130000000000001),\n",
       " ('2010-11-05', 3.48),\n",
       " ('2010-11-06', 5.779999999999999),\n",
       " ('2010-11-07', 1.37),\n",
       " ('2010-11-08', 0.01),\n",
       " ('2010-11-09', 0.04),\n",
       " ('2010-11-10', 1.1),\n",
       " ('2010-11-11', 0.16999999999999998),\n",
       " ('2010-11-12', 0.14),\n",
       " ('2010-11-13', 0.52),\n",
       " ('2010-11-14', 0.35),\n",
       " ('2010-11-15', 1.92),\n",
       " ('2010-11-16', 0.8999999999999999),\n",
       " ('2010-11-17', 0.03),\n",
       " ('2010-11-18', 0.0),\n",
       " ('2010-11-19', 1.9299999999999997),\n",
       " ('2010-11-20', 0.060000000000000005),\n",
       " ('2010-11-21', 0.16),\n",
       " ('2010-11-22', 0.05),\n",
       " ('2010-11-23', 0.07),\n",
       " ('2010-11-24', 0.27),\n",
       " ('2010-11-25', 0.78),\n",
       " ('2010-11-26', 0.1),\n",
       " ('2010-11-27', 0.2),\n",
       " ('2010-11-28', 3.25),\n",
       " ('2010-11-29', 1.1800000000000002),\n",
       " ('2010-11-30', 0.47000000000000003),\n",
       " ('2010-12-01', 4.52),\n",
       " ('2010-12-02', 0.81),\n",
       " ('2010-12-03', 3.24),\n",
       " ('2010-12-04', 0.19),\n",
       " ('2010-12-05', 0.0),\n",
       " ('2010-12-06', 0.02),\n",
       " ('2010-12-07', 0.02),\n",
       " ('2010-12-08', 0.48),\n",
       " ('2010-12-09', 1.71),\n",
       " ('2010-12-10', 17.19),\n",
       " ('2010-12-11', 5.72),\n",
       " ('2010-12-12', 1.02),\n",
       " ('2010-12-13', 1.54),\n",
       " ('2010-12-14', 0.2),\n",
       " ('2010-12-15', 0.1),\n",
       " ('2010-12-16', 0.05),\n",
       " ('2010-12-17', 0.0),\n",
       " ('2010-12-18', 0.0),\n",
       " ('2010-12-19', 18.79),\n",
       " ('2010-12-20', 23.59),\n",
       " ('2010-12-21', 3.8699999999999997),\n",
       " ('2010-12-22', 0.7400000000000001),\n",
       " ('2010-12-23', 0.38),\n",
       " ('2010-12-24', 0.24),\n",
       " ('2010-12-25', 6.12),\n",
       " ('2010-12-26', 8.21),\n",
       " ('2010-12-27', 0.9900000000000001),\n",
       " ('2010-12-28', 4.5),\n",
       " ('2010-12-29', 0.38),\n",
       " ('2010-12-30', 0.8),\n",
       " ('2010-12-31', 0.17)]"
      ]
     },
     "execution_count": 11,
     "metadata": {},
     "output_type": "execute_result"
    }
   ],
   "source": [
    "qry"
   ]
  },
  {
   "cell_type": "code",
   "execution_count": 12,
   "metadata": {},
   "outputs": [],
   "source": [
    "new_df = pd.DataFrame(qry, columns=['date', 'precipitation'])\n",
    "new_df.set_index(new_df['date'], inplace=True)"
   ]
  },
  {
   "cell_type": "code",
   "execution_count": 13,
   "metadata": {},
   "outputs": [
    {
     "data": {
      "text/html": [
       "<div>\n",
       "<style scoped>\n",
       "    .dataframe tbody tr th:only-of-type {\n",
       "        vertical-align: middle;\n",
       "    }\n",
       "\n",
       "    .dataframe tbody tr th {\n",
       "        vertical-align: top;\n",
       "    }\n",
       "\n",
       "    .dataframe thead th {\n",
       "        text-align: right;\n",
       "    }\n",
       "</style>\n",
       "<table border=\"1\" class=\"dataframe\">\n",
       "  <thead>\n",
       "    <tr style=\"text-align: right;\">\n",
       "      <th></th>\n",
       "      <th>date</th>\n",
       "      <th>precipitation</th>\n",
       "    </tr>\n",
       "    <tr>\n",
       "      <th>date</th>\n",
       "      <th></th>\n",
       "      <th></th>\n",
       "    </tr>\n",
       "  </thead>\n",
       "  <tbody>\n",
       "    <tr>\n",
       "      <th>2010-01-01</th>\n",
       "      <td>2010-01-01</td>\n",
       "      <td>1.06</td>\n",
       "    </tr>\n",
       "    <tr>\n",
       "      <th>2010-01-02</th>\n",
       "      <td>2010-01-02</td>\n",
       "      <td>0.02</td>\n",
       "    </tr>\n",
       "    <tr>\n",
       "      <th>2010-01-03</th>\n",
       "      <td>2010-01-03</td>\n",
       "      <td>0.00</td>\n",
       "    </tr>\n",
       "    <tr>\n",
       "      <th>2010-01-04</th>\n",
       "      <td>2010-01-04</td>\n",
       "      <td>0.01</td>\n",
       "    </tr>\n",
       "    <tr>\n",
       "      <th>2010-01-05</th>\n",
       "      <td>2010-01-05</td>\n",
       "      <td>0.03</td>\n",
       "    </tr>\n",
       "    <tr>\n",
       "      <th>2010-01-06</th>\n",
       "      <td>2010-01-06</td>\n",
       "      <td>0.58</td>\n",
       "    </tr>\n",
       "    <tr>\n",
       "      <th>2010-01-07</th>\n",
       "      <td>2010-01-07</td>\n",
       "      <td>1.65</td>\n",
       "    </tr>\n",
       "    <tr>\n",
       "      <th>2010-01-08</th>\n",
       "      <td>2010-01-08</td>\n",
       "      <td>0.06</td>\n",
       "    </tr>\n",
       "    <tr>\n",
       "      <th>2010-01-09</th>\n",
       "      <td>2010-01-09</td>\n",
       "      <td>0.02</td>\n",
       "    </tr>\n",
       "    <tr>\n",
       "      <th>2010-01-10</th>\n",
       "      <td>2010-01-10</td>\n",
       "      <td>0.02</td>\n",
       "    </tr>\n",
       "    <tr>\n",
       "      <th>2010-01-11</th>\n",
       "      <td>2010-01-11</td>\n",
       "      <td>0.88</td>\n",
       "    </tr>\n",
       "    <tr>\n",
       "      <th>2010-01-12</th>\n",
       "      <td>2010-01-12</td>\n",
       "      <td>0.02</td>\n",
       "    </tr>\n",
       "    <tr>\n",
       "      <th>2010-01-13</th>\n",
       "      <td>2010-01-13</td>\n",
       "      <td>0.02</td>\n",
       "    </tr>\n",
       "    <tr>\n",
       "      <th>2010-01-14</th>\n",
       "      <td>2010-01-14</td>\n",
       "      <td>0.00</td>\n",
       "    </tr>\n",
       "    <tr>\n",
       "      <th>2010-01-15</th>\n",
       "      <td>2010-01-15</td>\n",
       "      <td>0.00</td>\n",
       "    </tr>\n",
       "    <tr>\n",
       "      <th>2010-01-16</th>\n",
       "      <td>2010-01-16</td>\n",
       "      <td>0.00</td>\n",
       "    </tr>\n",
       "    <tr>\n",
       "      <th>2010-01-17</th>\n",
       "      <td>2010-01-17</td>\n",
       "      <td>0.00</td>\n",
       "    </tr>\n",
       "    <tr>\n",
       "      <th>2010-01-18</th>\n",
       "      <td>2010-01-18</td>\n",
       "      <td>0.00</td>\n",
       "    </tr>\n",
       "    <tr>\n",
       "      <th>2010-01-19</th>\n",
       "      <td>2010-01-19</td>\n",
       "      <td>0.00</td>\n",
       "    </tr>\n",
       "    <tr>\n",
       "      <th>2010-01-20</th>\n",
       "      <td>2010-01-20</td>\n",
       "      <td>0.01</td>\n",
       "    </tr>\n",
       "    <tr>\n",
       "      <th>2010-01-21</th>\n",
       "      <td>2010-01-21</td>\n",
       "      <td>0.65</td>\n",
       "    </tr>\n",
       "    <tr>\n",
       "      <th>2010-01-22</th>\n",
       "      <td>2010-01-22</td>\n",
       "      <td>0.00</td>\n",
       "    </tr>\n",
       "    <tr>\n",
       "      <th>2010-01-23</th>\n",
       "      <td>2010-01-23</td>\n",
       "      <td>0.00</td>\n",
       "    </tr>\n",
       "    <tr>\n",
       "      <th>2010-01-24</th>\n",
       "      <td>2010-01-24</td>\n",
       "      <td>0.02</td>\n",
       "    </tr>\n",
       "    <tr>\n",
       "      <th>2010-01-25</th>\n",
       "      <td>2010-01-25</td>\n",
       "      <td>0.00</td>\n",
       "    </tr>\n",
       "    <tr>\n",
       "      <th>2010-01-26</th>\n",
       "      <td>2010-01-26</td>\n",
       "      <td>0.25</td>\n",
       "    </tr>\n",
       "    <tr>\n",
       "      <th>2010-01-27</th>\n",
       "      <td>2010-01-27</td>\n",
       "      <td>1.60</td>\n",
       "    </tr>\n",
       "    <tr>\n",
       "      <th>2010-01-28</th>\n",
       "      <td>2010-01-28</td>\n",
       "      <td>0.73</td>\n",
       "    </tr>\n",
       "    <tr>\n",
       "      <th>2010-01-29</th>\n",
       "      <td>2010-01-29</td>\n",
       "      <td>2.19</td>\n",
       "    </tr>\n",
       "    <tr>\n",
       "      <th>2010-01-30</th>\n",
       "      <td>2010-01-30</td>\n",
       "      <td>7.35</td>\n",
       "    </tr>\n",
       "    <tr>\n",
       "      <th>...</th>\n",
       "      <td>...</td>\n",
       "      <td>...</td>\n",
       "    </tr>\n",
       "    <tr>\n",
       "      <th>2010-12-02</th>\n",
       "      <td>2010-12-02</td>\n",
       "      <td>0.81</td>\n",
       "    </tr>\n",
       "    <tr>\n",
       "      <th>2010-12-03</th>\n",
       "      <td>2010-12-03</td>\n",
       "      <td>3.24</td>\n",
       "    </tr>\n",
       "    <tr>\n",
       "      <th>2010-12-04</th>\n",
       "      <td>2010-12-04</td>\n",
       "      <td>0.19</td>\n",
       "    </tr>\n",
       "    <tr>\n",
       "      <th>2010-12-05</th>\n",
       "      <td>2010-12-05</td>\n",
       "      <td>0.00</td>\n",
       "    </tr>\n",
       "    <tr>\n",
       "      <th>2010-12-06</th>\n",
       "      <td>2010-12-06</td>\n",
       "      <td>0.02</td>\n",
       "    </tr>\n",
       "    <tr>\n",
       "      <th>2010-12-07</th>\n",
       "      <td>2010-12-07</td>\n",
       "      <td>0.02</td>\n",
       "    </tr>\n",
       "    <tr>\n",
       "      <th>2010-12-08</th>\n",
       "      <td>2010-12-08</td>\n",
       "      <td>0.48</td>\n",
       "    </tr>\n",
       "    <tr>\n",
       "      <th>2010-12-09</th>\n",
       "      <td>2010-12-09</td>\n",
       "      <td>1.71</td>\n",
       "    </tr>\n",
       "    <tr>\n",
       "      <th>2010-12-10</th>\n",
       "      <td>2010-12-10</td>\n",
       "      <td>17.19</td>\n",
       "    </tr>\n",
       "    <tr>\n",
       "      <th>2010-12-11</th>\n",
       "      <td>2010-12-11</td>\n",
       "      <td>5.72</td>\n",
       "    </tr>\n",
       "    <tr>\n",
       "      <th>2010-12-12</th>\n",
       "      <td>2010-12-12</td>\n",
       "      <td>1.02</td>\n",
       "    </tr>\n",
       "    <tr>\n",
       "      <th>2010-12-13</th>\n",
       "      <td>2010-12-13</td>\n",
       "      <td>1.54</td>\n",
       "    </tr>\n",
       "    <tr>\n",
       "      <th>2010-12-14</th>\n",
       "      <td>2010-12-14</td>\n",
       "      <td>0.20</td>\n",
       "    </tr>\n",
       "    <tr>\n",
       "      <th>2010-12-15</th>\n",
       "      <td>2010-12-15</td>\n",
       "      <td>0.10</td>\n",
       "    </tr>\n",
       "    <tr>\n",
       "      <th>2010-12-16</th>\n",
       "      <td>2010-12-16</td>\n",
       "      <td>0.05</td>\n",
       "    </tr>\n",
       "    <tr>\n",
       "      <th>2010-12-17</th>\n",
       "      <td>2010-12-17</td>\n",
       "      <td>0.00</td>\n",
       "    </tr>\n",
       "    <tr>\n",
       "      <th>2010-12-18</th>\n",
       "      <td>2010-12-18</td>\n",
       "      <td>0.00</td>\n",
       "    </tr>\n",
       "    <tr>\n",
       "      <th>2010-12-19</th>\n",
       "      <td>2010-12-19</td>\n",
       "      <td>18.79</td>\n",
       "    </tr>\n",
       "    <tr>\n",
       "      <th>2010-12-20</th>\n",
       "      <td>2010-12-20</td>\n",
       "      <td>23.59</td>\n",
       "    </tr>\n",
       "    <tr>\n",
       "      <th>2010-12-21</th>\n",
       "      <td>2010-12-21</td>\n",
       "      <td>3.87</td>\n",
       "    </tr>\n",
       "    <tr>\n",
       "      <th>2010-12-22</th>\n",
       "      <td>2010-12-22</td>\n",
       "      <td>0.74</td>\n",
       "    </tr>\n",
       "    <tr>\n",
       "      <th>2010-12-23</th>\n",
       "      <td>2010-12-23</td>\n",
       "      <td>0.38</td>\n",
       "    </tr>\n",
       "    <tr>\n",
       "      <th>2010-12-24</th>\n",
       "      <td>2010-12-24</td>\n",
       "      <td>0.24</td>\n",
       "    </tr>\n",
       "    <tr>\n",
       "      <th>2010-12-25</th>\n",
       "      <td>2010-12-25</td>\n",
       "      <td>6.12</td>\n",
       "    </tr>\n",
       "    <tr>\n",
       "      <th>2010-12-26</th>\n",
       "      <td>2010-12-26</td>\n",
       "      <td>8.21</td>\n",
       "    </tr>\n",
       "    <tr>\n",
       "      <th>2010-12-27</th>\n",
       "      <td>2010-12-27</td>\n",
       "      <td>0.99</td>\n",
       "    </tr>\n",
       "    <tr>\n",
       "      <th>2010-12-28</th>\n",
       "      <td>2010-12-28</td>\n",
       "      <td>4.50</td>\n",
       "    </tr>\n",
       "    <tr>\n",
       "      <th>2010-12-29</th>\n",
       "      <td>2010-12-29</td>\n",
       "      <td>0.38</td>\n",
       "    </tr>\n",
       "    <tr>\n",
       "      <th>2010-12-30</th>\n",
       "      <td>2010-12-30</td>\n",
       "      <td>0.80</td>\n",
       "    </tr>\n",
       "    <tr>\n",
       "      <th>2010-12-31</th>\n",
       "      <td>2010-12-31</td>\n",
       "      <td>0.17</td>\n",
       "    </tr>\n",
       "  </tbody>\n",
       "</table>\n",
       "<p>365 rows × 2 columns</p>\n",
       "</div>"
      ],
      "text/plain": [
       "                  date  precipitation\n",
       "date                                 \n",
       "2010-01-01  2010-01-01           1.06\n",
       "2010-01-02  2010-01-02           0.02\n",
       "2010-01-03  2010-01-03           0.00\n",
       "2010-01-04  2010-01-04           0.01\n",
       "2010-01-05  2010-01-05           0.03\n",
       "2010-01-06  2010-01-06           0.58\n",
       "2010-01-07  2010-01-07           1.65\n",
       "2010-01-08  2010-01-08           0.06\n",
       "2010-01-09  2010-01-09           0.02\n",
       "2010-01-10  2010-01-10           0.02\n",
       "2010-01-11  2010-01-11           0.88\n",
       "2010-01-12  2010-01-12           0.02\n",
       "2010-01-13  2010-01-13           0.02\n",
       "2010-01-14  2010-01-14           0.00\n",
       "2010-01-15  2010-01-15           0.00\n",
       "2010-01-16  2010-01-16           0.00\n",
       "2010-01-17  2010-01-17           0.00\n",
       "2010-01-18  2010-01-18           0.00\n",
       "2010-01-19  2010-01-19           0.00\n",
       "2010-01-20  2010-01-20           0.01\n",
       "2010-01-21  2010-01-21           0.65\n",
       "2010-01-22  2010-01-22           0.00\n",
       "2010-01-23  2010-01-23           0.00\n",
       "2010-01-24  2010-01-24           0.02\n",
       "2010-01-25  2010-01-25           0.00\n",
       "2010-01-26  2010-01-26           0.25\n",
       "2010-01-27  2010-01-27           1.60\n",
       "2010-01-28  2010-01-28           0.73\n",
       "2010-01-29  2010-01-29           2.19\n",
       "2010-01-30  2010-01-30           7.35\n",
       "...                ...            ...\n",
       "2010-12-02  2010-12-02           0.81\n",
       "2010-12-03  2010-12-03           3.24\n",
       "2010-12-04  2010-12-04           0.19\n",
       "2010-12-05  2010-12-05           0.00\n",
       "2010-12-06  2010-12-06           0.02\n",
       "2010-12-07  2010-12-07           0.02\n",
       "2010-12-08  2010-12-08           0.48\n",
       "2010-12-09  2010-12-09           1.71\n",
       "2010-12-10  2010-12-10          17.19\n",
       "2010-12-11  2010-12-11           5.72\n",
       "2010-12-12  2010-12-12           1.02\n",
       "2010-12-13  2010-12-13           1.54\n",
       "2010-12-14  2010-12-14           0.20\n",
       "2010-12-15  2010-12-15           0.10\n",
       "2010-12-16  2010-12-16           0.05\n",
       "2010-12-17  2010-12-17           0.00\n",
       "2010-12-18  2010-12-18           0.00\n",
       "2010-12-19  2010-12-19          18.79\n",
       "2010-12-20  2010-12-20          23.59\n",
       "2010-12-21  2010-12-21           3.87\n",
       "2010-12-22  2010-12-22           0.74\n",
       "2010-12-23  2010-12-23           0.38\n",
       "2010-12-24  2010-12-24           0.24\n",
       "2010-12-25  2010-12-25           6.12\n",
       "2010-12-26  2010-12-26           8.21\n",
       "2010-12-27  2010-12-27           0.99\n",
       "2010-12-28  2010-12-28           4.50\n",
       "2010-12-29  2010-12-29           0.38\n",
       "2010-12-30  2010-12-30           0.80\n",
       "2010-12-31  2010-12-31           0.17\n",
       "\n",
       "[365 rows x 2 columns]"
      ]
     },
     "execution_count": 13,
     "metadata": {},
     "output_type": "execute_result"
    }
   ],
   "source": [
    "new_df"
   ]
  },
  {
   "cell_type": "code",
   "execution_count": 14,
   "metadata": {},
   "outputs": [
    {
     "data": {
      "image/png": "[encoded data removed]",
      "text/plain": [
       "<matplotlib.figure.Figure at 0x1146fad68>"
      ]
     },
     "metadata": {},
     "output_type": "display_data"
    }
   ],
   "source": [
    "new_df.plot.bar(title=\"Precipitation in 2010\", color=\"#663f2d\")\n",
    "plt.show()"
   ]
  },
  {
   "cell_type": "code",
   "execution_count": 15,
   "metadata": {},
   "outputs": [],
   "source": [
    "dates = [str(row[0]) for row in qry]\n",
    "rain = [row[1] for row in qry]"
   ]
  },
  {
   "cell_type": "code",
   "execution_count": 16,
   "metadata": {},
   "outputs": [
    {
     "data": {
      "image/png": "[encoded data removed]",
      "text/plain": [
       "<matplotlib.figure.Figure at 0x11a1b7828>"
      ]
     },
     "metadata": {},
     "output_type": "display_data"
    }
   ],
   "source": [
    "fig, ax = plt.subplots()\n",
    "ax.bar(dates, rain, color=\"#663f2d\")\n",
    "ax.set_xlabel(\"month\")\n",
    "ax.set_ylabel(\"Precipitation\")\n",
    "ax.set_title(\"Precipitation in 2010\")\n",
    "fig.tight_layout()\n",
    "plt.show()"
   ]
  },
  {
   "cell_type": "markdown",
   "metadata": {},
   "source": [
    "### Station Analysis\n",
    "\n",
    "\n",
    "Design a query to calculate the total number of stations.\n",
    "\n",
    "Design a query to find the most active stations.\n",
    "\n",
    "\n",
    "List the stations and observation counts in descending order\n",
    "Which station has the highest number of observations?\n",
    "\n",
    "\n",
    "\n",
    "Design a query to retrieve the last 12 months of temperature observation data (tobs).\n",
    "\n",
    "\n",
    "Filter by the station with the highest number of observations.\n",
    "Plot the results as a histogram with bins=12.\n",
    "\n",
    "\n",
    "\n",
    "\n"
   ]
  },
  {
   "cell_type": "code",
   "execution_count": 17,
   "metadata": {},
   "outputs": [],
   "source": [
    "# Create a database session object\n",
    "session = Session(engine)"
   ]
  },
  {
   "cell_type": "code",
   "execution_count": 18,
   "metadata": {},
   "outputs": [
    {
     "data": {
      "text/plain": [
       "{'_sa_instance_state': <sqlalchemy.orm.state.InstanceState at 0x11a4dea58>,\n",
       " 'elevation': 3.0,\n",
       " 'id': 1,\n",
       " 'latitude': 21.2716,\n",
       " 'longitude': -157.8168,\n",
       " 'station': 'USC00519397'}"
      ]
     },
     "execution_count": 18,
     "metadata": {},
     "output_type": "execute_result"
    }
   ],
   "source": [
    "# Display the row's columns and data in dictionary format for Measurement Table\n",
    "first_row = session.query(staTbl).first()\n",
    "first_row.__dict__"
   ]
  },
  {
   "cell_type": "code",
   "execution_count": 19,
   "metadata": {},
   "outputs": [
    {
     "data": {
      "text/plain": [
       "[(9)]"
      ]
     },
     "execution_count": 19,
     "metadata": {},
     "output_type": "execute_result"
    }
   ],
   "source": [
    "#select a year worth of precipitation\n",
    "session.query(func.count(staTbl.station)).all()"
   ]
  },
  {
   "cell_type": "code",
   "execution_count": 20,
   "metadata": {},
   "outputs": [
    {
     "data": {
      "text/plain": [
       "['measurement', 'station']"
      ]
     },
     "execution_count": 20,
     "metadata": {},
     "output_type": "execute_result"
    }
   ],
   "source": [
    "inspector = inspect(engine)\n",
    "inspector.get_table_names()"
   ]
  },
  {
   "cell_type": "code",
   "execution_count": 21,
   "metadata": {},
   "outputs": [
    {
     "name": "stdout",
     "output_type": "stream",
     "text": [
      "id INTEGER\n",
      "station VARCHAR(255)\n",
      "date VARCHAR(255)\n",
      "prcp FLOAT\n",
      "tobs INTEGER\n"
     ]
    }
   ],
   "source": [
    "# Get a list of column names and types\n",
    "columns = inspector.get_columns('measurement')\n",
    "for c in columns:\n",
    "    print(c['name'], c[\"type\"])"
   ]
  },
  {
   "cell_type": "code",
   "execution_count": 22,
   "metadata": {},
   "outputs": [
    {
     "name": "stdout",
     "output_type": "stream",
     "text": [
      "id INTEGER\n",
      "station VARCHAR(255)\n",
      "latitude FLOAT\n",
      "longitude FLOAT\n",
      "elevation FLOAT\n"
     ]
    }
   ],
   "source": [
    "# Get a list of column names and types\n",
    "columns = inspector.get_columns('station')\n",
    "for c in columns:\n",
    "    print(c['name'], c[\"type\"])"
   ]
  },
  {
   "cell_type": "code",
   "execution_count": 23,
   "metadata": {},
   "outputs": [
    {
     "data": {
      "text/plain": [
       "[('USC00519397', 'USC00519397'),\n",
       " ('USC00519397', 'USC00513117'),\n",
       " ('USC00519397', 'USC00514830'),\n",
       " ('USC00519397', 'USC00517948'),\n",
       " ('USC00519397', 'USC00518838'),\n",
       " ('USC00519397', 'USC00519523'),\n",
       " ('USC00519397', 'USC00519281'),\n",
       " ('USC00519397', 'USC00511918'),\n",
       " ('USC00519397', 'USC00516128'),\n",
       " ('USC00519397', 'USC00519397'),\n",
       " ('USC00519397', 'USC00513117'),\n",
       " ('USC00519397', 'USC00514830'),\n",
       " ('USC00519397', 'USC00517948'),\n",
       " ('USC00519397', 'USC00518838'),\n",
       " ('USC00519397', 'USC00519523'),\n",
       " ('USC00519397', 'USC00519281'),\n",
       " ('USC00519397', 'USC00511918'),\n",
       " ('USC00519397', 'USC00516128'),\n",
       " ('USC00519397', 'USC00519397'),\n",
       " ('USC00519397', 'USC00513117'),\n",
       " ('USC00519397', 'USC00514830'),\n",
       " ('USC00519397', 'USC00517948'),\n",
       " ('USC00519397', 'USC00518838'),\n",
       " ('USC00519397', 'USC00519523'),\n",
       " ('USC00519397', 'USC00519281'),\n",
       " ('USC00519397', 'USC00511918'),\n",
       " ('USC00519397', 'USC00516128'),\n",
       " ('USC00519397', 'USC00519397'),\n",
       " ('USC00519397', 'USC00513117'),\n",
       " ('USC00519397', 'USC00514830'),\n",
       " ('USC00519397', 'USC00517948'),\n",
       " ('USC00519397', 'USC00518838'),\n",
       " ('USC00519397', 'USC00519523'),\n",
       " ('USC00519397', 'USC00519281'),\n",
       " ('USC00519397', 'USC00511918'),\n",
       " ('USC00519397', 'USC00516128'),\n",
       " ('USC00519397', 'USC00519397'),\n",
       " ('USC00519397', 'USC00513117'),\n",
       " ('USC00519397', 'USC00514830'),\n",
       " ('USC00519397', 'USC00517948'),\n",
       " ('USC00519397', 'USC00518838'),\n",
       " ('USC00519397', 'USC00519523'),\n",
       " ('USC00519397', 'USC00519281'),\n",
       " ('USC00519397', 'USC00511918'),\n",
       " ('USC00519397', 'USC00516128'),\n",
       " ('USC00519397', 'USC00519397'),\n",
       " ('USC00519397', 'USC00513117'),\n",
       " ('USC00519397', 'USC00514830'),\n",
       " ('USC00519397', 'USC00517948'),\n",
       " ('USC00519397', 'USC00518838'),\n",
       " ('USC00519397', 'USC00519523'),\n",
       " ('USC00519397', 'USC00519281'),\n",
       " ('USC00519397', 'USC00511918'),\n",
       " ('USC00519397', 'USC00516128'),\n",
       " ('USC00519397', 'USC00519397'),\n",
       " ('USC00519397', 'USC00513117'),\n",
       " ('USC00519397', 'USC00514830'),\n",
       " ('USC00519397', 'USC00517948'),\n",
       " ('USC00519397', 'USC00518838'),\n",
       " ('USC00519397', 'USC00519523'),\n",
       " ('USC00519397', 'USC00519281'),\n",
       " ('USC00519397', 'USC00511918'),\n",
       " ('USC00519397', 'USC00516128'),\n",
       " ('USC00519397', 'USC00519397'),\n",
       " ('USC00519397', 'USC00513117'),\n",
       " ('USC00519397', 'USC00514830'),\n",
       " ('USC00519397', 'USC00517948'),\n",
       " ('USC00519397', 'USC00518838'),\n",
       " ('USC00519397', 'USC00519523'),\n",
       " ('USC00519397', 'USC00519281'),\n",
       " ('USC00519397', 'USC00511918'),\n",
       " ('USC00519397', 'USC00516128'),\n",
       " ('USC00519397', 'USC00519397'),\n",
       " ('USC00519397', 'USC00513117'),\n",
       " ('USC00519397', 'USC00514830'),\n",
       " ('USC00519397', 'USC00517948'),\n",
       " ('USC00519397', 'USC00518838'),\n",
       " ('USC00519397', 'USC00519523'),\n",
       " ('USC00519397', 'USC00519281'),\n",
       " ('USC00519397', 'USC00511918'),\n",
       " ('USC00519397', 'USC00516128'),\n",
       " ('USC00519397', 'USC00519397'),\n",
       " ('USC00519397', 'USC00513117'),\n",
       " ('USC00519397', 'USC00514830'),\n",
       " ('USC00519397', 'USC00517948'),\n",
       " ('USC00519397', 'USC00518838'),\n",
       " ('USC00519397', 'USC00519523'),\n",
       " ('USC00519397', 'USC00519281'),\n",
       " ('USC00519397', 'USC00511918'),\n",
       " ('USC00519397', 'USC00516128'),\n",
       " ('USC00519397', 'USC00519397'),\n",
       " ('USC00519397', 'USC00513117'),\n",
       " ('USC00519397', 'USC00514830'),\n",
       " ('USC00519397', 'USC00517948'),\n",
       " ('USC00519397', 'USC00518838'),\n",
       " ('USC00519397', 'USC00519523'),\n",
       " ('USC00519397', 'USC00519281'),\n",
       " ('USC00519397', 'USC00511918'),\n",
       " ('USC00519397', 'USC00516128'),\n",
       " ('USC00519397', 'USC00519397')]"
      ]
     },
     "execution_count": 23,
     "metadata": {},
     "output_type": "execute_result"
    }
   ],
   "source": [
    "session.query(msrTbl.station, staTbl.station).limit(100).all()"
   ]
  },
  {
   "cell_type": "code",
   "execution_count": 24,
   "metadata": {},
   "outputs": [],
   "source": [
    "#join the tables together via station\n",
    "sel = [msrTbl.station, msrTbl.date, msrTbl.prcp, msrTbl.tobs, staTbl.elevation, staTbl.latitude, staTbl.longitude]\n",
    "results = session.query(*sel).filter(msrTbl.station == staTbl.station).all()"
   ]
  },
  {
   "cell_type": "code",
   "execution_count": 25,
   "metadata": {},
   "outputs": [],
   "source": [
    "results_df = pd.DataFrame(results, columns=['station', 'date','prcp', 'tobs','elevation','latitude','longitude'])\n",
    "results_df.set_index(results_df['date'], inplace=True)"
   ]
  },
  {
   "cell_type": "code",
   "execution_count": 26,
   "metadata": {},
   "outputs": [],
   "source": [
    "newqry = session.query(msrTbl.station, func.sum(msrTbl.tobs)).\\\n",
    "    filter(msrTbl.station == msrTbl.station).\\\n",
    "    group_by(msrTbl.station).all()"
   ]
  },
  {
   "cell_type": "code",
   "execution_count": 27,
   "metadata": {},
   "outputs": [
    {
     "name": "stdout",
     "output_type": "stream",
     "text": [
      "[('USC00511918', 141728), ('USC00513117', 196915), ('USC00514830', 164871), ('USC00516128', 185230), ('USC00517948', 102467), ('USC00518838', 37162), ('USC00519281', 198652), ('USC00519397', 203083), ('USC00519523', 198957)]\n"
     ]
    }
   ],
   "source": [
    "print(newqry)"
   ]
  },
  {
   "cell_type": "code",
   "execution_count": 28,
   "metadata": {},
   "outputs": [],
   "source": [
    "new_df = pd.DataFrame(newqry, columns=['station', 'tobs'])\n",
    "new_df.set_index(new_df['station'], inplace=True)"
   ]
  },
  {
   "cell_type": "code",
   "execution_count": 29,
   "metadata": {},
   "outputs": [],
   "source": [
    "new_df = new_df.sort_values('tobs',ascending=False)"
   ]
  },
  {
   "cell_type": "code",
   "execution_count": 30,
   "metadata": {},
   "outputs": [
    {
     "data": {
      "text/html": [
       "<div>\n",
       "<style scoped>\n",
       "    .dataframe tbody tr th:only-of-type {\n",
       "        vertical-align: middle;\n",
       "    }\n",
       "\n",
       "    .dataframe tbody tr th {\n",
       "        vertical-align: top;\n",
       "    }\n",
       "\n",
       "    .dataframe thead th {\n",
       "        text-align: right;\n",
       "    }\n",
       "</style>\n",
       "<table border=\"1\" class=\"dataframe\">\n",
       "  <thead>\n",
       "    <tr style=\"text-align: right;\">\n",
       "      <th></th>\n",
       "      <th>station</th>\n",
       "      <th>tobs</th>\n",
       "    </tr>\n",
       "    <tr>\n",
       "      <th>station</th>\n",
       "      <th></th>\n",
       "      <th></th>\n",
       "    </tr>\n",
       "  </thead>\n",
       "  <tbody>\n",
       "    <tr>\n",
       "      <th>USC00519397</th>\n",
       "      <td>USC00519397</td>\n",
       "      <td>203083</td>\n",
       "    </tr>\n",
       "    <tr>\n",
       "      <th>USC00519523</th>\n",
       "      <td>USC00519523</td>\n",
       "      <td>198957</td>\n",
       "    </tr>\n",
       "    <tr>\n",
       "      <th>USC00519281</th>\n",
       "      <td>USC00519281</td>\n",
       "      <td>198652</td>\n",
       "    </tr>\n",
       "    <tr>\n",
       "      <th>USC00513117</th>\n",
       "      <td>USC00513117</td>\n",
       "      <td>196915</td>\n",
       "    </tr>\n",
       "    <tr>\n",
       "      <th>USC00516128</th>\n",
       "      <td>USC00516128</td>\n",
       "      <td>185230</td>\n",
       "    </tr>\n",
       "    <tr>\n",
       "      <th>USC00514830</th>\n",
       "      <td>USC00514830</td>\n",
       "      <td>164871</td>\n",
       "    </tr>\n",
       "    <tr>\n",
       "      <th>USC00511918</th>\n",
       "      <td>USC00511918</td>\n",
       "      <td>141728</td>\n",
       "    </tr>\n",
       "    <tr>\n",
       "      <th>USC00517948</th>\n",
       "      <td>USC00517948</td>\n",
       "      <td>102467</td>\n",
       "    </tr>\n",
       "    <tr>\n",
       "      <th>USC00518838</th>\n",
       "      <td>USC00518838</td>\n",
       "      <td>37162</td>\n",
       "    </tr>\n",
       "  </tbody>\n",
       "</table>\n",
       "</div>"
      ],
      "text/plain": [
       "                 station    tobs\n",
       "station                         \n",
       "USC00519397  USC00519397  203083\n",
       "USC00519523  USC00519523  198957\n",
       "USC00519281  USC00519281  198652\n",
       "USC00513117  USC00513117  196915\n",
       "USC00516128  USC00516128  185230\n",
       "USC00514830  USC00514830  164871\n",
       "USC00511918  USC00511918  141728\n",
       "USC00517948  USC00517948  102467\n",
       "USC00518838  USC00518838   37162"
      ]
     },
     "execution_count": 30,
     "metadata": {},
     "output_type": "execute_result"
    }
   ],
   "source": [
    "new_df"
   ]
  },
  {
   "cell_type": "code",
   "execution_count": 31,
   "metadata": {},
   "outputs": [
    {
     "data": {
      "image/png": "[encoded data removed]",
      "text/plain": [
       "<matplotlib.figure.Figure at 0x11a4e8518>"
      ]
     },
     "metadata": {},
     "output_type": "display_data"
    }
   ],
   "source": [
    "new_df.plot.bar(title=\"Station Observations\", color=\"#663f2d\")\n",
    "plt.show()"
   ]
  },
  {
   "cell_type": "code",
   "execution_count": null,
   "metadata": {},
   "outputs": [],
   "source": []
  },
  {
   "cell_type": "markdown",
   "metadata": {},
   "source": [
    "Design a query to retrieve the last 12 months of temperature observation data (tobs)."
   ]
  },
  {
   "cell_type": "code",
   "execution_count": 32,
   "metadata": {},
   "outputs": [],
   "source": [
    "rst = results_df[(results_df['date'] > \"2016-08-23\") & (results_df[\"date\"] < \"2017-08-23\")]\n"
   ]
  },
  {
   "cell_type": "code",
   "execution_count": 33,
   "metadata": {},
   "outputs": [],
   "source": [
    "last_yr = rst.groupby('station')['prcp'].sum()"
   ]
  },
  {
   "cell_type": "code",
   "execution_count": 34,
   "metadata": {},
   "outputs": [
    {
     "data": {
      "text/plain": [
       "station\n",
       "USC00513117     48.36\n",
       "USC00514830     33.19\n",
       "USC00516128    146.66\n",
       "USC00517948      4.59\n",
       "USC00519281     68.24\n",
       "USC00519397     16.09\n",
       "USC00519523     37.91\n",
       "Name: prcp, dtype: float64"
      ]
     },
     "execution_count": 34,
     "metadata": {},
     "output_type": "execute_result"
    }
   ],
   "source": [
    "last_yr"
   ]
  },
  {
   "cell_type": "code",
   "execution_count": 44,
   "metadata": {},
   "outputs": [],
   "source": [
    "station_tobs = results_df.groupby('station')['tobs'].sum()"
   ]
  },
  {
   "cell_type": "code",
   "execution_count": 45,
   "metadata": {},
   "outputs": [
    {
     "data": {
      "image/png": "[encoded data removed]",
      "text/plain": [
       "<matplotlib.figure.Figure at 0x11e0f5860>"
      ]
     },
     "metadata": {},
     "output_type": "display_data"
    }
   ],
   "source": [
    "station_tobs.plot.bar(title=\"Station Observations\", color=\"#663f2d\")\n",
    "plt.show()"
   ]
  },
  {
   "cell_type": "code",
   "execution_count": 46,
   "metadata": {},
   "outputs": [
    {
     "data": {
      "text/plain": [
       "198957"
      ]
     },
     "execution_count": 46,
     "metadata": {},
     "output_type": "execute_result"
    }
   ],
   "source": [
    "station_tobs[8]"
   ]
  },
  {
   "cell_type": "code",
   "execution_count": 47,
   "metadata": {},
   "outputs": [],
   "source": [
    "sta_list = ['USC00511918','USC00513117','USC00514830','USC00516128','USC00517948','USC00518838','USC00519281','USC00519397','USC00519523']\n"
   ]
  },
  {
   "cell_type": "code",
   "execution_count": 48,
   "metadata": {},
   "outputs": [
    {
     "data": {
      "text/plain": [
       "9"
      ]
     },
     "execution_count": 48,
     "metadata": {},
     "output_type": "execute_result"
    }
   ],
   "source": [
    "len(station_tobs)"
   ]
  },
  {
   "cell_type": "markdown",
   "metadata": {},
   "source": [
    "Now lets do it with SQLAlCHEMY"
   ]
  },
  {
   "cell_type": "code",
   "execution_count": 39,
   "metadata": {},
   "outputs": [],
   "source": [
    "#select a year worth of precipitation\n",
    "tobs_qry = session.query(msrTbl.station, func.count(msrTbl.tobs)).\\\n",
    "    filter(msrTbl.station == msrTbl.station).\\\n",
    "    filter(msrTbl.date.between('2016-08-23', '2017-08-23')).\\\n",
    "    group_by(msrTbl.station).all()\n"
   ]
  },
  {
   "cell_type": "code",
   "execution_count": 40,
   "metadata": {},
   "outputs": [
    {
     "data": {
      "text/plain": [
       "[('USC00513117', 343),\n",
       " ('USC00514830', 305),\n",
       " ('USC00516128', 349),\n",
       " ('USC00517948', 183),\n",
       " ('USC00519281', 352),\n",
       " ('USC00519397', 361),\n",
       " ('USC00519523', 337)]"
      ]
     },
     "execution_count": 40,
     "metadata": {},
     "output_type": "execute_result"
    }
   ],
   "source": [
    "tobs_qry"
   ]
  },
  {
   "cell_type": "code",
   "execution_count": 41,
   "metadata": {},
   "outputs": [],
   "source": [
    "yrlyTobs_df = pd.DataFrame(tobs_qry, columns=['station', 'tobs'])\n",
    "yrlyTobs_df.set_index(yrlyTobs_df['station'], inplace=True)"
   ]
  },
  {
   "cell_type": "code",
   "execution_count": 42,
   "metadata": {},
   "outputs": [],
   "source": [
    "yrlyTobs_df = yrlyTobs_df.sort_values('tobs',ascending=False)"
   ]
  },
  {
   "cell_type": "code",
   "execution_count": 43,
   "metadata": {},
   "outputs": [
    {
     "data": {
      "image/png": "[encoded data removed]",
      "text/plain": [
       "<matplotlib.figure.Figure at 0x11a5761d0>"
      ]
     },
     "metadata": {},
     "output_type": "display_data"
    }
   ],
   "source": [
    "yrlyTobs_df.plot.bar(title=\"Last 12 months Station Observations\", color=\"#663f2d\")\n",
    "plt.show()"
   ]
  },
  {
   "cell_type": "code",
   "execution_count": null,
   "metadata": {},
   "outputs": [],
   "source": []
  },
  {
   "cell_type": "code",
   "execution_count": null,
   "metadata": {},
   "outputs": [],
   "source": []
  },
  {
   "cell_type": "markdown",
   "metadata": {},
   "source": [
    "Extra code for api - just trying to make sure it worked."
   ]
  },
  {
   "cell_type": "code",
   "execution_count": 157,
   "metadata": {},
   "outputs": [],
   "source": [
    "# Create a dictionary from the row data and append to a list of all_passengers\n",
    "\n",
    "tobs_list = []\n",
    "for x in range(len(sta_list)):\n",
    "    tobs_dict = {}\n",
    "    tobs_dict[\"station\"] = sta_list[x]\n",
    "    tobs_dict[\"tobs\"] = str(station_tobs[x])\n",
    "    tobs_list.append(tobs_dict)"
   ]
  },
  {
   "cell_type": "code",
   "execution_count": 158,
   "metadata": {},
   "outputs": [
    {
     "data": {
      "text/plain": [
       "[{'station': 'USC00511918', 'tobs': '141728'},\n",
       " {'station': 'USC00513117', 'tobs': '196915'},\n",
       " {'station': 'USC00514830', 'tobs': '164871'},\n",
       " {'station': 'USC00516128', 'tobs': '185230'},\n",
       " {'station': 'USC00517948', 'tobs': '102467'},\n",
       " {'station': 'USC00518838', 'tobs': '37162'},\n",
       " {'station': 'USC00519281', 'tobs': '198652'},\n",
       " {'station': 'USC00519397', 'tobs': '203083'},\n",
       " {'station': 'USC00519523', 'tobs': '198957'}]"
      ]
     },
     "execution_count": 158,
     "metadata": {},
     "output_type": "execute_result"
    }
   ],
   "source": [
    "tobs_list"
   ]
  },
  {
   "cell_type": "code",
   "execution_count": null,
   "metadata": {},
   "outputs": [],
   "source": []
  }
 ],
 "metadata": {
  "kernelspec": {
   "display_name": "Python 3",
   "language": "python",
   "name": "python3"
  },
  "language_info": {
   "codemirror_mode": {
    "name": "ipython",
    "version": 3
   },
   "file_extension": ".py",
   "mimetype": "text/x-python",
   "name": "python",
   "nbconvert_exporter": "python",
   "pygments_lexer": "ipython3",
   "version": "3.6.4"
  }
 },
 "nbformat": 4,
 "nbformat_minor": 2
}
